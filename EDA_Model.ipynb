{
  "nbformat": 4,
  "nbformat_minor": 0,
  "metadata": {
    "colab": {
      "provenance": [],
      "toc_visible": true,
      "machine_shape": "hm",
      "include_colab_link": true
    },
    "kernelspec": {
      "name": "python3",
      "display_name": "Python 3"
    },
    "language_info": {
      "name": "python"
    },
    "accelerator": "GPU",
    "gpuClass": "premium"
  },
  "cells": [
    {
      "cell_type": "markdown",
      "metadata": {
        "id": "view-in-github",
        "colab_type": "text"
      },
      "source": [
        "<a href=\"https://colab.research.google.com/github/Garimagupta85/Default-Prediction/blob/main/EDA_Model.ipynb\" target=\"_parent\"><img src=\"https://colab.research.google.com/assets/colab-badge.svg\" alt=\"Open In Colab\"/></a>"
      ]
    },
    {
      "cell_type": "markdown",
      "source": [
        "## Imports"
      ],
      "metadata": {
        "id": "Q9BKY8o3Tg-u"
      }
    },
    {
      "cell_type": "code",
      "source": [
        "from pydrive.auth import GoogleAuth\n",
        "from google.colab import drive\n",
        "from pydrive.drive import GoogleDrive\n",
        "from google.colab import auth\n",
        "from oauth2client.client import GoogleCredentials\n",
        "\n",
        "import numpy as np \n",
        "import pandas as pd\n",
        "from matplotlib import pyplot as plt\n",
        "import gc\n",
        "\n",
        "import seaborn as sns\n",
        "import plotly.graph_objects as go\n",
        "import plotly.express as px"
      ],
      "metadata": {
        "id": "HQPEsZagiQUr"
      },
      "execution_count": 1,
      "outputs": []
    },
    {
      "cell_type": "markdown",
      "source": [
        "## Loading Data "
      ],
      "metadata": {
        "id": "l8sn9tuaTRs8"
      }
    },
    {
      "cell_type": "code",
      "execution_count": 2,
      "metadata": {
        "id": "3nYoJRFF7M5U",
        "colab": {
          "base_uri": "https://localhost:8080/",
          "height": 386
        },
        "outputId": "19e2e06f-b30d-44c5-87e3-0cbce0e64432"
      },
      "outputs": [
        {
          "output_type": "execute_result",
          "data": {
            "text/plain": [
              "                                         customer_ID         S_2       P_2  \\\n",
              "0  0000099d6bd597052cdcda90ffabf56573fe9d7c79be5f...  2017-03-09  0.938469   \n",
              "1  0000099d6bd597052cdcda90ffabf56573fe9d7c79be5f...  2017-04-07  0.936665   \n",
              "2  0000099d6bd597052cdcda90ffabf56573fe9d7c79be5f...  2017-05-28  0.954180   \n",
              "3  0000099d6bd597052cdcda90ffabf56573fe9d7c79be5f...  2017-06-13  0.960384   \n",
              "4  0000099d6bd597052cdcda90ffabf56573fe9d7c79be5f...  2017-07-16  0.947248   \n",
              "\n",
              "       D_39       B_1       B_2       R_1       S_3      D_41       B_3  ...  \\\n",
              "0  0.001733  0.008724  1.006838  0.009228  0.124035  0.008771  0.004709  ...   \n",
              "1  0.005775  0.004923  1.000653  0.006151  0.126750  0.000798  0.002714  ...   \n",
              "2  0.091505  0.021655  1.009672  0.006815  0.123977  0.007598  0.009423  ...   \n",
              "3  0.002455  0.013683  1.002700  0.001373  0.117169  0.000685  0.005531  ...   \n",
              "4  0.002483  0.015193  1.000727  0.007605  0.117325  0.004653  0.009312  ...   \n",
              "\n",
              "   D_137  D_138     D_139     D_140     D_141  D_142     D_143     D_144  \\\n",
              "0    NaN    NaN  0.002427  0.003706  0.003818    NaN  0.000569  0.000610   \n",
              "1    NaN    NaN  0.003954  0.003167  0.005032    NaN  0.009576  0.005492   \n",
              "2    NaN    NaN  0.003269  0.007329  0.000427    NaN  0.003429  0.006986   \n",
              "3    NaN    NaN  0.006117  0.004516  0.003200    NaN  0.008419  0.006527   \n",
              "4    NaN    NaN  0.003671  0.004946  0.008889    NaN  0.001670  0.008126   \n",
              "\n",
              "      D_145  target  \n",
              "0  0.002674       0  \n",
              "1  0.009217       0  \n",
              "2  0.002603       0  \n",
              "3  0.009600       0  \n",
              "4  0.009827       0  \n",
              "\n",
              "[5 rows x 191 columns]"
            ],
            "text/html": [
              "\n",
              "  <div id=\"df-496deeff-3d1c-4de0-aaae-3c4953b6be3e\">\n",
              "    <div class=\"colab-df-container\">\n",
              "      <div>\n",
              "<style scoped>\n",
              "    .dataframe tbody tr th:only-of-type {\n",
              "        vertical-align: middle;\n",
              "    }\n",
              "\n",
              "    .dataframe tbody tr th {\n",
              "        vertical-align: top;\n",
              "    }\n",
              "\n",
              "    .dataframe thead th {\n",
              "        text-align: right;\n",
              "    }\n",
              "</style>\n",
              "<table border=\"1\" class=\"dataframe\">\n",
              "  <thead>\n",
              "    <tr style=\"text-align: right;\">\n",
              "      <th></th>\n",
              "      <th>customer_ID</th>\n",
              "      <th>S_2</th>\n",
              "      <th>P_2</th>\n",
              "      <th>D_39</th>\n",
              "      <th>B_1</th>\n",
              "      <th>B_2</th>\n",
              "      <th>R_1</th>\n",
              "      <th>S_3</th>\n",
              "      <th>D_41</th>\n",
              "      <th>B_3</th>\n",
              "      <th>...</th>\n",
              "      <th>D_137</th>\n",
              "      <th>D_138</th>\n",
              "      <th>D_139</th>\n",
              "      <th>D_140</th>\n",
              "      <th>D_141</th>\n",
              "      <th>D_142</th>\n",
              "      <th>D_143</th>\n",
              "      <th>D_144</th>\n",
              "      <th>D_145</th>\n",
              "      <th>target</th>\n",
              "    </tr>\n",
              "  </thead>\n",
              "  <tbody>\n",
              "    <tr>\n",
              "      <th>0</th>\n",
              "      <td>0000099d6bd597052cdcda90ffabf56573fe9d7c79be5f...</td>\n",
              "      <td>2017-03-09</td>\n",
              "      <td>0.938469</td>\n",
              "      <td>0.001733</td>\n",
              "      <td>0.008724</td>\n",
              "      <td>1.006838</td>\n",
              "      <td>0.009228</td>\n",
              "      <td>0.124035</td>\n",
              "      <td>0.008771</td>\n",
              "      <td>0.004709</td>\n",
              "      <td>...</td>\n",
              "      <td>NaN</td>\n",
              "      <td>NaN</td>\n",
              "      <td>0.002427</td>\n",
              "      <td>0.003706</td>\n",
              "      <td>0.003818</td>\n",
              "      <td>NaN</td>\n",
              "      <td>0.000569</td>\n",
              "      <td>0.000610</td>\n",
              "      <td>0.002674</td>\n",
              "      <td>0</td>\n",
              "    </tr>\n",
              "    <tr>\n",
              "      <th>1</th>\n",
              "      <td>0000099d6bd597052cdcda90ffabf56573fe9d7c79be5f...</td>\n",
              "      <td>2017-04-07</td>\n",
              "      <td>0.936665</td>\n",
              "      <td>0.005775</td>\n",
              "      <td>0.004923</td>\n",
              "      <td>1.000653</td>\n",
              "      <td>0.006151</td>\n",
              "      <td>0.126750</td>\n",
              "      <td>0.000798</td>\n",
              "      <td>0.002714</td>\n",
              "      <td>...</td>\n",
              "      <td>NaN</td>\n",
              "      <td>NaN</td>\n",
              "      <td>0.003954</td>\n",
              "      <td>0.003167</td>\n",
              "      <td>0.005032</td>\n",
              "      <td>NaN</td>\n",
              "      <td>0.009576</td>\n",
              "      <td>0.005492</td>\n",
              "      <td>0.009217</td>\n",
              "      <td>0</td>\n",
              "    </tr>\n",
              "    <tr>\n",
              "      <th>2</th>\n",
              "      <td>0000099d6bd597052cdcda90ffabf56573fe9d7c79be5f...</td>\n",
              "      <td>2017-05-28</td>\n",
              "      <td>0.954180</td>\n",
              "      <td>0.091505</td>\n",
              "      <td>0.021655</td>\n",
              "      <td>1.009672</td>\n",
              "      <td>0.006815</td>\n",
              "      <td>0.123977</td>\n",
              "      <td>0.007598</td>\n",
              "      <td>0.009423</td>\n",
              "      <td>...</td>\n",
              "      <td>NaN</td>\n",
              "      <td>NaN</td>\n",
              "      <td>0.003269</td>\n",
              "      <td>0.007329</td>\n",
              "      <td>0.000427</td>\n",
              "      <td>NaN</td>\n",
              "      <td>0.003429</td>\n",
              "      <td>0.006986</td>\n",
              "      <td>0.002603</td>\n",
              "      <td>0</td>\n",
              "    </tr>\n",
              "    <tr>\n",
              "      <th>3</th>\n",
              "      <td>0000099d6bd597052cdcda90ffabf56573fe9d7c79be5f...</td>\n",
              "      <td>2017-06-13</td>\n",
              "      <td>0.960384</td>\n",
              "      <td>0.002455</td>\n",
              "      <td>0.013683</td>\n",
              "      <td>1.002700</td>\n",
              "      <td>0.001373</td>\n",
              "      <td>0.117169</td>\n",
              "      <td>0.000685</td>\n",
              "      <td>0.005531</td>\n",
              "      <td>...</td>\n",
              "      <td>NaN</td>\n",
              "      <td>NaN</td>\n",
              "      <td>0.006117</td>\n",
              "      <td>0.004516</td>\n",
              "      <td>0.003200</td>\n",
              "      <td>NaN</td>\n",
              "      <td>0.008419</td>\n",
              "      <td>0.006527</td>\n",
              "      <td>0.009600</td>\n",
              "      <td>0</td>\n",
              "    </tr>\n",
              "    <tr>\n",
              "      <th>4</th>\n",
              "      <td>0000099d6bd597052cdcda90ffabf56573fe9d7c79be5f...</td>\n",
              "      <td>2017-07-16</td>\n",
              "      <td>0.947248</td>\n",
              "      <td>0.002483</td>\n",
              "      <td>0.015193</td>\n",
              "      <td>1.000727</td>\n",
              "      <td>0.007605</td>\n",
              "      <td>0.117325</td>\n",
              "      <td>0.004653</td>\n",
              "      <td>0.009312</td>\n",
              "      <td>...</td>\n",
              "      <td>NaN</td>\n",
              "      <td>NaN</td>\n",
              "      <td>0.003671</td>\n",
              "      <td>0.004946</td>\n",
              "      <td>0.008889</td>\n",
              "      <td>NaN</td>\n",
              "      <td>0.001670</td>\n",
              "      <td>0.008126</td>\n",
              "      <td>0.009827</td>\n",
              "      <td>0</td>\n",
              "    </tr>\n",
              "  </tbody>\n",
              "</table>\n",
              "<p>5 rows × 191 columns</p>\n",
              "</div>\n",
              "      <button class=\"colab-df-convert\" onclick=\"convertToInteractive('df-496deeff-3d1c-4de0-aaae-3c4953b6be3e')\"\n",
              "              title=\"Convert this dataframe to an interactive table.\"\n",
              "              style=\"display:none;\">\n",
              "        \n",
              "  <svg xmlns=\"http://www.w3.org/2000/svg\" height=\"24px\"viewBox=\"0 0 24 24\"\n",
              "       width=\"24px\">\n",
              "    <path d=\"M0 0h24v24H0V0z\" fill=\"none\"/>\n",
              "    <path d=\"M18.56 5.44l.94 2.06.94-2.06 2.06-.94-2.06-.94-.94-2.06-.94 2.06-2.06.94zm-11 1L8.5 8.5l.94-2.06 2.06-.94-2.06-.94L8.5 2.5l-.94 2.06-2.06.94zm10 10l.94 2.06.94-2.06 2.06-.94-2.06-.94-.94-2.06-.94 2.06-2.06.94z\"/><path d=\"M17.41 7.96l-1.37-1.37c-.4-.4-.92-.59-1.43-.59-.52 0-1.04.2-1.43.59L10.3 9.45l-7.72 7.72c-.78.78-.78 2.05 0 2.83L4 21.41c.39.39.9.59 1.41.59.51 0 1.02-.2 1.41-.59l7.78-7.78 2.81-2.81c.8-.78.8-2.07 0-2.86zM5.41 20L4 18.59l7.72-7.72 1.47 1.35L5.41 20z\"/>\n",
              "  </svg>\n",
              "      </button>\n",
              "      \n",
              "  <style>\n",
              "    .colab-df-container {\n",
              "      display:flex;\n",
              "      flex-wrap:wrap;\n",
              "      gap: 12px;\n",
              "    }\n",
              "\n",
              "    .colab-df-convert {\n",
              "      background-color: #E8F0FE;\n",
              "      border: none;\n",
              "      border-radius: 50%;\n",
              "      cursor: pointer;\n",
              "      display: none;\n",
              "      fill: #1967D2;\n",
              "      height: 32px;\n",
              "      padding: 0 0 0 0;\n",
              "      width: 32px;\n",
              "    }\n",
              "\n",
              "    .colab-df-convert:hover {\n",
              "      background-color: #E2EBFA;\n",
              "      box-shadow: 0px 1px 2px rgba(60, 64, 67, 0.3), 0px 1px 3px 1px rgba(60, 64, 67, 0.15);\n",
              "      fill: #174EA6;\n",
              "    }\n",
              "\n",
              "    [theme=dark] .colab-df-convert {\n",
              "      background-color: #3B4455;\n",
              "      fill: #D2E3FC;\n",
              "    }\n",
              "\n",
              "    [theme=dark] .colab-df-convert:hover {\n",
              "      background-color: #434B5C;\n",
              "      box-shadow: 0px 1px 3px 1px rgba(0, 0, 0, 0.15);\n",
              "      filter: drop-shadow(0px 1px 2px rgba(0, 0, 0, 0.3));\n",
              "      fill: #FFFFFF;\n",
              "    }\n",
              "  </style>\n",
              "\n",
              "      <script>\n",
              "        const buttonEl =\n",
              "          document.querySelector('#df-496deeff-3d1c-4de0-aaae-3c4953b6be3e button.colab-df-convert');\n",
              "        buttonEl.style.display =\n",
              "          google.colab.kernel.accessAllowed ? 'block' : 'none';\n",
              "\n",
              "        async function convertToInteractive(key) {\n",
              "          const element = document.querySelector('#df-496deeff-3d1c-4de0-aaae-3c4953b6be3e');\n",
              "          const dataTable =\n",
              "            await google.colab.kernel.invokeFunction('convertToInteractive',\n",
              "                                                     [key], {});\n",
              "          if (!dataTable) return;\n",
              "\n",
              "          const docLinkHtml = 'Like what you see? Visit the ' +\n",
              "            '<a target=\"_blank\" href=https://colab.research.google.com/notebooks/data_table.ipynb>data table notebook</a>'\n",
              "            + ' to learn more about interactive tables.';\n",
              "          element.innerHTML = '';\n",
              "          dataTable['output_type'] = 'display_data';\n",
              "          await google.colab.output.renderOutput(dataTable, element);\n",
              "          const docLink = document.createElement('div');\n",
              "          docLink.innerHTML = docLinkHtml;\n",
              "          element.appendChild(docLink);\n",
              "        }\n",
              "      </script>\n",
              "    </div>\n",
              "  </div>\n",
              "  "
            ]
          },
          "metadata": {},
          "execution_count": 2
        }
      ],
      "source": [
        "#loading amex data (parquet form) from google drive\n",
        "auth.authenticate_user()\n",
        "gauth = GoogleAuth()\n",
        "gauth.credentials = GoogleCredentials.get_application_default()\n",
        "drive = GoogleDrive(gauth)\n",
        "\n",
        "train_file_id = '1JKPJVwQjn72xuXjFpz_DQy6MZtbNFg_2' \n",
        "test_file_id = '1ADD4KUHP4nSz_-YBEFClD1DTpSZhmMM-'\n",
        "train_labels_file_id = '1kEh1YWz1xyHifimo_3y5vzyNEV_Lk0ZA'\n",
        "\n",
        "download = drive.CreateFile({'id': train_file_id})\n",
        "# Download the training data to a local disc\n",
        "download.GetContentFile('train-data.parquet')\n",
        "train_data  = pd.read_parquet(\"train-data.parquet\")\n",
        "train_data.head()"
      ]
    },
    {
      "cell_type": "code",
      "source": [
        "download = drive.CreateFile({'id': test_file_id})\n",
        "# Download the test data to a local disc\n",
        "download.GetContentFile('test-data.parquet')\n",
        "test_data  = pd.read_parquet(\"test-data.parquet\")\n",
        "test_data.head()"
      ],
      "metadata": {
        "colab": {
          "base_uri": "https://localhost:8080/",
          "height": 386
        },
        "id": "Xg58LsCBio0z",
        "outputId": "401ea744-d5b9-4b6c-9b31-22947ce1e9cd"
      },
      "execution_count": 3,
      "outputs": [
        {
          "output_type": "execute_result",
          "data": {
            "text/plain": [
              "                                         customer_ID         S_2       P_2  \\\n",
              "0  00000469ba478561f23a92a868bd366de6f6527a684c9a...  2019-02-19  0.631315   \n",
              "1  00000469ba478561f23a92a868bd366de6f6527a684c9a...  2019-03-25  0.587042   \n",
              "2  00000469ba478561f23a92a868bd366de6f6527a684c9a...  2019-04-25  0.609056   \n",
              "3  00000469ba478561f23a92a868bd366de6f6527a684c9a...  2019-05-20  0.614911   \n",
              "4  00000469ba478561f23a92a868bd366de6f6527a684c9a...  2019-06-15  0.591673   \n",
              "\n",
              "       D_39       B_1       B_2       R_1       S_3      D_41       B_3  ...  \\\n",
              "0  0.001912  0.010728  0.814497  0.007547  0.168651  0.009971  0.002347  ...   \n",
              "1  0.005275  0.011026  0.810848  0.001817  0.241389  0.000166  0.009132  ...   \n",
              "2  0.003326  0.016390  1.004620  0.000114  0.266976  0.004196  0.004192  ...   \n",
              "3  0.009065  0.021672  0.816549  0.009722  0.188947  0.004123  0.015325  ...   \n",
              "4  0.238794  0.015923  0.810456  0.002026  0.180035  0.000731  0.011281  ...   \n",
              "\n",
              "   D_136  D_137  D_138     D_139     D_140     D_141  D_142     D_143  \\\n",
              "0    NaN    NaN    NaN       NaN  0.004669       NaN    NaN       NaN   \n",
              "1    NaN    NaN    NaN  0.000142  0.004940  0.009021    NaN  0.003695   \n",
              "2    NaN    NaN    NaN  0.000074  0.002114  0.004656    NaN  0.003155   \n",
              "3    NaN    NaN    NaN  0.004743  0.006392  0.002890    NaN  0.006044   \n",
              "4    NaN    NaN    NaN  0.008133  0.004329  0.008384    NaN  0.001008   \n",
              "\n",
              "      D_144     D_145  \n",
              "0  0.008281       NaN  \n",
              "1  0.003753  0.001460  \n",
              "2  0.002156  0.006482  \n",
              "3  0.005206  0.007855  \n",
              "4  0.007421  0.009471  \n",
              "\n",
              "[5 rows x 190 columns]"
            ],
            "text/html": [
              "\n",
              "  <div id=\"df-7aadbfd8-8056-4a6a-8f03-68d89ebea154\">\n",
              "    <div class=\"colab-df-container\">\n",
              "      <div>\n",
              "<style scoped>\n",
              "    .dataframe tbody tr th:only-of-type {\n",
              "        vertical-align: middle;\n",
              "    }\n",
              "\n",
              "    .dataframe tbody tr th {\n",
              "        vertical-align: top;\n",
              "    }\n",
              "\n",
              "    .dataframe thead th {\n",
              "        text-align: right;\n",
              "    }\n",
              "</style>\n",
              "<table border=\"1\" class=\"dataframe\">\n",
              "  <thead>\n",
              "    <tr style=\"text-align: right;\">\n",
              "      <th></th>\n",
              "      <th>customer_ID</th>\n",
              "      <th>S_2</th>\n",
              "      <th>P_2</th>\n",
              "      <th>D_39</th>\n",
              "      <th>B_1</th>\n",
              "      <th>B_2</th>\n",
              "      <th>R_1</th>\n",
              "      <th>S_3</th>\n",
              "      <th>D_41</th>\n",
              "      <th>B_3</th>\n",
              "      <th>...</th>\n",
              "      <th>D_136</th>\n",
              "      <th>D_137</th>\n",
              "      <th>D_138</th>\n",
              "      <th>D_139</th>\n",
              "      <th>D_140</th>\n",
              "      <th>D_141</th>\n",
              "      <th>D_142</th>\n",
              "      <th>D_143</th>\n",
              "      <th>D_144</th>\n",
              "      <th>D_145</th>\n",
              "    </tr>\n",
              "  </thead>\n",
              "  <tbody>\n",
              "    <tr>\n",
              "      <th>0</th>\n",
              "      <td>00000469ba478561f23a92a868bd366de6f6527a684c9a...</td>\n",
              "      <td>2019-02-19</td>\n",
              "      <td>0.631315</td>\n",
              "      <td>0.001912</td>\n",
              "      <td>0.010728</td>\n",
              "      <td>0.814497</td>\n",
              "      <td>0.007547</td>\n",
              "      <td>0.168651</td>\n",
              "      <td>0.009971</td>\n",
              "      <td>0.002347</td>\n",
              "      <td>...</td>\n",
              "      <td>NaN</td>\n",
              "      <td>NaN</td>\n",
              "      <td>NaN</td>\n",
              "      <td>NaN</td>\n",
              "      <td>0.004669</td>\n",
              "      <td>NaN</td>\n",
              "      <td>NaN</td>\n",
              "      <td>NaN</td>\n",
              "      <td>0.008281</td>\n",
              "      <td>NaN</td>\n",
              "    </tr>\n",
              "    <tr>\n",
              "      <th>1</th>\n",
              "      <td>00000469ba478561f23a92a868bd366de6f6527a684c9a...</td>\n",
              "      <td>2019-03-25</td>\n",
              "      <td>0.587042</td>\n",
              "      <td>0.005275</td>\n",
              "      <td>0.011026</td>\n",
              "      <td>0.810848</td>\n",
              "      <td>0.001817</td>\n",
              "      <td>0.241389</td>\n",
              "      <td>0.000166</td>\n",
              "      <td>0.009132</td>\n",
              "      <td>...</td>\n",
              "      <td>NaN</td>\n",
              "      <td>NaN</td>\n",
              "      <td>NaN</td>\n",
              "      <td>0.000142</td>\n",
              "      <td>0.004940</td>\n",
              "      <td>0.009021</td>\n",
              "      <td>NaN</td>\n",
              "      <td>0.003695</td>\n",
              "      <td>0.003753</td>\n",
              "      <td>0.001460</td>\n",
              "    </tr>\n",
              "    <tr>\n",
              "      <th>2</th>\n",
              "      <td>00000469ba478561f23a92a868bd366de6f6527a684c9a...</td>\n",
              "      <td>2019-04-25</td>\n",
              "      <td>0.609056</td>\n",
              "      <td>0.003326</td>\n",
              "      <td>0.016390</td>\n",
              "      <td>1.004620</td>\n",
              "      <td>0.000114</td>\n",
              "      <td>0.266976</td>\n",
              "      <td>0.004196</td>\n",
              "      <td>0.004192</td>\n",
              "      <td>...</td>\n",
              "      <td>NaN</td>\n",
              "      <td>NaN</td>\n",
              "      <td>NaN</td>\n",
              "      <td>0.000074</td>\n",
              "      <td>0.002114</td>\n",
              "      <td>0.004656</td>\n",
              "      <td>NaN</td>\n",
              "      <td>0.003155</td>\n",
              "      <td>0.002156</td>\n",
              "      <td>0.006482</td>\n",
              "    </tr>\n",
              "    <tr>\n",
              "      <th>3</th>\n",
              "      <td>00000469ba478561f23a92a868bd366de6f6527a684c9a...</td>\n",
              "      <td>2019-05-20</td>\n",
              "      <td>0.614911</td>\n",
              "      <td>0.009065</td>\n",
              "      <td>0.021672</td>\n",
              "      <td>0.816549</td>\n",
              "      <td>0.009722</td>\n",
              "      <td>0.188947</td>\n",
              "      <td>0.004123</td>\n",
              "      <td>0.015325</td>\n",
              "      <td>...</td>\n",
              "      <td>NaN</td>\n",
              "      <td>NaN</td>\n",
              "      <td>NaN</td>\n",
              "      <td>0.004743</td>\n",
              "      <td>0.006392</td>\n",
              "      <td>0.002890</td>\n",
              "      <td>NaN</td>\n",
              "      <td>0.006044</td>\n",
              "      <td>0.005206</td>\n",
              "      <td>0.007855</td>\n",
              "    </tr>\n",
              "    <tr>\n",
              "      <th>4</th>\n",
              "      <td>00000469ba478561f23a92a868bd366de6f6527a684c9a...</td>\n",
              "      <td>2019-06-15</td>\n",
              "      <td>0.591673</td>\n",
              "      <td>0.238794</td>\n",
              "      <td>0.015923</td>\n",
              "      <td>0.810456</td>\n",
              "      <td>0.002026</td>\n",
              "      <td>0.180035</td>\n",
              "      <td>0.000731</td>\n",
              "      <td>0.011281</td>\n",
              "      <td>...</td>\n",
              "      <td>NaN</td>\n",
              "      <td>NaN</td>\n",
              "      <td>NaN</td>\n",
              "      <td>0.008133</td>\n",
              "      <td>0.004329</td>\n",
              "      <td>0.008384</td>\n",
              "      <td>NaN</td>\n",
              "      <td>0.001008</td>\n",
              "      <td>0.007421</td>\n",
              "      <td>0.009471</td>\n",
              "    </tr>\n",
              "  </tbody>\n",
              "</table>\n",
              "<p>5 rows × 190 columns</p>\n",
              "</div>\n",
              "      <button class=\"colab-df-convert\" onclick=\"convertToInteractive('df-7aadbfd8-8056-4a6a-8f03-68d89ebea154')\"\n",
              "              title=\"Convert this dataframe to an interactive table.\"\n",
              "              style=\"display:none;\">\n",
              "        \n",
              "  <svg xmlns=\"http://www.w3.org/2000/svg\" height=\"24px\"viewBox=\"0 0 24 24\"\n",
              "       width=\"24px\">\n",
              "    <path d=\"M0 0h24v24H0V0z\" fill=\"none\"/>\n",
              "    <path d=\"M18.56 5.44l.94 2.06.94-2.06 2.06-.94-2.06-.94-.94-2.06-.94 2.06-2.06.94zm-11 1L8.5 8.5l.94-2.06 2.06-.94-2.06-.94L8.5 2.5l-.94 2.06-2.06.94zm10 10l.94 2.06.94-2.06 2.06-.94-2.06-.94-.94-2.06-.94 2.06-2.06.94z\"/><path d=\"M17.41 7.96l-1.37-1.37c-.4-.4-.92-.59-1.43-.59-.52 0-1.04.2-1.43.59L10.3 9.45l-7.72 7.72c-.78.78-.78 2.05 0 2.83L4 21.41c.39.39.9.59 1.41.59.51 0 1.02-.2 1.41-.59l7.78-7.78 2.81-2.81c.8-.78.8-2.07 0-2.86zM5.41 20L4 18.59l7.72-7.72 1.47 1.35L5.41 20z\"/>\n",
              "  </svg>\n",
              "      </button>\n",
              "      \n",
              "  <style>\n",
              "    .colab-df-container {\n",
              "      display:flex;\n",
              "      flex-wrap:wrap;\n",
              "      gap: 12px;\n",
              "    }\n",
              "\n",
              "    .colab-df-convert {\n",
              "      background-color: #E8F0FE;\n",
              "      border: none;\n",
              "      border-radius: 50%;\n",
              "      cursor: pointer;\n",
              "      display: none;\n",
              "      fill: #1967D2;\n",
              "      height: 32px;\n",
              "      padding: 0 0 0 0;\n",
              "      width: 32px;\n",
              "    }\n",
              "\n",
              "    .colab-df-convert:hover {\n",
              "      background-color: #E2EBFA;\n",
              "      box-shadow: 0px 1px 2px rgba(60, 64, 67, 0.3), 0px 1px 3px 1px rgba(60, 64, 67, 0.15);\n",
              "      fill: #174EA6;\n",
              "    }\n",
              "\n",
              "    [theme=dark] .colab-df-convert {\n",
              "      background-color: #3B4455;\n",
              "      fill: #D2E3FC;\n",
              "    }\n",
              "\n",
              "    [theme=dark] .colab-df-convert:hover {\n",
              "      background-color: #434B5C;\n",
              "      box-shadow: 0px 1px 3px 1px rgba(0, 0, 0, 0.15);\n",
              "      filter: drop-shadow(0px 1px 2px rgba(0, 0, 0, 0.3));\n",
              "      fill: #FFFFFF;\n",
              "    }\n",
              "  </style>\n",
              "\n",
              "      <script>\n",
              "        const buttonEl =\n",
              "          document.querySelector('#df-7aadbfd8-8056-4a6a-8f03-68d89ebea154 button.colab-df-convert');\n",
              "        buttonEl.style.display =\n",
              "          google.colab.kernel.accessAllowed ? 'block' : 'none';\n",
              "\n",
              "        async function convertToInteractive(key) {\n",
              "          const element = document.querySelector('#df-7aadbfd8-8056-4a6a-8f03-68d89ebea154');\n",
              "          const dataTable =\n",
              "            await google.colab.kernel.invokeFunction('convertToInteractive',\n",
              "                                                     [key], {});\n",
              "          if (!dataTable) return;\n",
              "\n",
              "          const docLinkHtml = 'Like what you see? Visit the ' +\n",
              "            '<a target=\"_blank\" href=https://colab.research.google.com/notebooks/data_table.ipynb>data table notebook</a>'\n",
              "            + ' to learn more about interactive tables.';\n",
              "          element.innerHTML = '';\n",
              "          dataTable['output_type'] = 'display_data';\n",
              "          await google.colab.output.renderOutput(dataTable, element);\n",
              "          const docLink = document.createElement('div');\n",
              "          docLink.innerHTML = docLinkHtml;\n",
              "          element.appendChild(docLink);\n",
              "        }\n",
              "      </script>\n",
              "    </div>\n",
              "  </div>\n",
              "  "
            ]
          },
          "metadata": {},
          "execution_count": 3
        }
      ]
    },
    {
      "cell_type": "code",
      "source": [
        "download = drive.CreateFile({'id': train_labels_file_id})\n",
        "# Download the training labels to a local disc\n",
        "download.GetContentFile('train-labels-data.csv')\n",
        "train_labels_data  = pd.read_csv(\"train-labels-data.csv\")\n",
        "train_labels_data.head()"
      ],
      "metadata": {
        "colab": {
          "base_uri": "https://localhost:8080/",
          "height": 206
        },
        "id": "UJbi1_5yipHr",
        "outputId": "ed8c445e-6da4-4a6c-fc81-78b720226080"
      },
      "execution_count": 4,
      "outputs": [
        {
          "output_type": "execute_result",
          "data": {
            "text/plain": [
              "                                         customer_ID  target\n",
              "0  0000099d6bd597052cdcda90ffabf56573fe9d7c79be5f...       0\n",
              "1  00000fd6641609c6ece5454664794f0340ad84dddce9a2...       0\n",
              "2  00001b22f846c82c51f6e3958ccd81970162bae8b007e8...       0\n",
              "3  000041bdba6ecadd89a52d11886e8eaaec9325906c9723...       0\n",
              "4  00007889e4fcd2614b6cbe7f8f3d2e5c728eca32d9eb8a...       0"
            ],
            "text/html": [
              "\n",
              "  <div id=\"df-6219294d-b836-4ac3-9911-c42046a1a443\">\n",
              "    <div class=\"colab-df-container\">\n",
              "      <div>\n",
              "<style scoped>\n",
              "    .dataframe tbody tr th:only-of-type {\n",
              "        vertical-align: middle;\n",
              "    }\n",
              "\n",
              "    .dataframe tbody tr th {\n",
              "        vertical-align: top;\n",
              "    }\n",
              "\n",
              "    .dataframe thead th {\n",
              "        text-align: right;\n",
              "    }\n",
              "</style>\n",
              "<table border=\"1\" class=\"dataframe\">\n",
              "  <thead>\n",
              "    <tr style=\"text-align: right;\">\n",
              "      <th></th>\n",
              "      <th>customer_ID</th>\n",
              "      <th>target</th>\n",
              "    </tr>\n",
              "  </thead>\n",
              "  <tbody>\n",
              "    <tr>\n",
              "      <th>0</th>\n",
              "      <td>0000099d6bd597052cdcda90ffabf56573fe9d7c79be5f...</td>\n",
              "      <td>0</td>\n",
              "    </tr>\n",
              "    <tr>\n",
              "      <th>1</th>\n",
              "      <td>00000fd6641609c6ece5454664794f0340ad84dddce9a2...</td>\n",
              "      <td>0</td>\n",
              "    </tr>\n",
              "    <tr>\n",
              "      <th>2</th>\n",
              "      <td>00001b22f846c82c51f6e3958ccd81970162bae8b007e8...</td>\n",
              "      <td>0</td>\n",
              "    </tr>\n",
              "    <tr>\n",
              "      <th>3</th>\n",
              "      <td>000041bdba6ecadd89a52d11886e8eaaec9325906c9723...</td>\n",
              "      <td>0</td>\n",
              "    </tr>\n",
              "    <tr>\n",
              "      <th>4</th>\n",
              "      <td>00007889e4fcd2614b6cbe7f8f3d2e5c728eca32d9eb8a...</td>\n",
              "      <td>0</td>\n",
              "    </tr>\n",
              "  </tbody>\n",
              "</table>\n",
              "</div>\n",
              "      <button class=\"colab-df-convert\" onclick=\"convertToInteractive('df-6219294d-b836-4ac3-9911-c42046a1a443')\"\n",
              "              title=\"Convert this dataframe to an interactive table.\"\n",
              "              style=\"display:none;\">\n",
              "        \n",
              "  <svg xmlns=\"http://www.w3.org/2000/svg\" height=\"24px\"viewBox=\"0 0 24 24\"\n",
              "       width=\"24px\">\n",
              "    <path d=\"M0 0h24v24H0V0z\" fill=\"none\"/>\n",
              "    <path d=\"M18.56 5.44l.94 2.06.94-2.06 2.06-.94-2.06-.94-.94-2.06-.94 2.06-2.06.94zm-11 1L8.5 8.5l.94-2.06 2.06-.94-2.06-.94L8.5 2.5l-.94 2.06-2.06.94zm10 10l.94 2.06.94-2.06 2.06-.94-2.06-.94-.94-2.06-.94 2.06-2.06.94z\"/><path d=\"M17.41 7.96l-1.37-1.37c-.4-.4-.92-.59-1.43-.59-.52 0-1.04.2-1.43.59L10.3 9.45l-7.72 7.72c-.78.78-.78 2.05 0 2.83L4 21.41c.39.39.9.59 1.41.59.51 0 1.02-.2 1.41-.59l7.78-7.78 2.81-2.81c.8-.78.8-2.07 0-2.86zM5.41 20L4 18.59l7.72-7.72 1.47 1.35L5.41 20z\"/>\n",
              "  </svg>\n",
              "      </button>\n",
              "      \n",
              "  <style>\n",
              "    .colab-df-container {\n",
              "      display:flex;\n",
              "      flex-wrap:wrap;\n",
              "      gap: 12px;\n",
              "    }\n",
              "\n",
              "    .colab-df-convert {\n",
              "      background-color: #E8F0FE;\n",
              "      border: none;\n",
              "      border-radius: 50%;\n",
              "      cursor: pointer;\n",
              "      display: none;\n",
              "      fill: #1967D2;\n",
              "      height: 32px;\n",
              "      padding: 0 0 0 0;\n",
              "      width: 32px;\n",
              "    }\n",
              "\n",
              "    .colab-df-convert:hover {\n",
              "      background-color: #E2EBFA;\n",
              "      box-shadow: 0px 1px 2px rgba(60, 64, 67, 0.3), 0px 1px 3px 1px rgba(60, 64, 67, 0.15);\n",
              "      fill: #174EA6;\n",
              "    }\n",
              "\n",
              "    [theme=dark] .colab-df-convert {\n",
              "      background-color: #3B4455;\n",
              "      fill: #D2E3FC;\n",
              "    }\n",
              "\n",
              "    [theme=dark] .colab-df-convert:hover {\n",
              "      background-color: #434B5C;\n",
              "      box-shadow: 0px 1px 3px 1px rgba(0, 0, 0, 0.15);\n",
              "      filter: drop-shadow(0px 1px 2px rgba(0, 0, 0, 0.3));\n",
              "      fill: #FFFFFF;\n",
              "    }\n",
              "  </style>\n",
              "\n",
              "      <script>\n",
              "        const buttonEl =\n",
              "          document.querySelector('#df-6219294d-b836-4ac3-9911-c42046a1a443 button.colab-df-convert');\n",
              "        buttonEl.style.display =\n",
              "          google.colab.kernel.accessAllowed ? 'block' : 'none';\n",
              "\n",
              "        async function convertToInteractive(key) {\n",
              "          const element = document.querySelector('#df-6219294d-b836-4ac3-9911-c42046a1a443');\n",
              "          const dataTable =\n",
              "            await google.colab.kernel.invokeFunction('convertToInteractive',\n",
              "                                                     [key], {});\n",
              "          if (!dataTable) return;\n",
              "\n",
              "          const docLinkHtml = 'Like what you see? Visit the ' +\n",
              "            '<a target=\"_blank\" href=https://colab.research.google.com/notebooks/data_table.ipynb>data table notebook</a>'\n",
              "            + ' to learn more about interactive tables.';\n",
              "          element.innerHTML = '';\n",
              "          dataTable['output_type'] = 'display_data';\n",
              "          await google.colab.output.renderOutput(dataTable, element);\n",
              "          const docLink = document.createElement('div');\n",
              "          docLink.innerHTML = docLinkHtml;\n",
              "          element.appendChild(docLink);\n",
              "        }\n",
              "      </script>\n",
              "    </div>\n",
              "  </div>\n",
              "  "
            ]
          },
          "metadata": {},
          "execution_count": 4
        }
      ]
    },
    {
      "cell_type": "markdown",
      "source": [
        "## Preprocessing the data"
      ],
      "metadata": {
        "id": "j6V9X3Y3TWet"
      }
    },
    {
      "cell_type": "code",
      "source": [
        "train_data = train_data.merge(train_labels_data, left_on='customer_ID', right_on='customer_ID')\n",
        "train_data.shape"
      ],
      "metadata": {
        "id": "cRmsIwL3jCgb",
        "outputId": "38898c50-0a9a-4964-af17-7bf290f7de16",
        "colab": {
          "base_uri": "https://localhost:8080/"
        }
      },
      "execution_count": 5,
      "outputs": [
        {
          "output_type": "execute_result",
          "data": {
            "text/plain": [
              "(5531451, 192)"
            ]
          },
          "metadata": {},
          "execution_count": 5
        }
      ]
    },
    {
      "cell_type": "code",
      "source": [
        "print(f'Train dates range is from {train_data[\"S_2\"].min()} to {train_data[\"S_2\"].max()}.')"
      ],
      "metadata": {
        "id": "G9XmqzFwkdJP",
        "outputId": "25265163-ddb6-4c64-bc8a-947e4d48317e",
        "colab": {
          "base_uri": "https://localhost:8080/"
        }
      },
      "execution_count": 6,
      "outputs": [
        {
          "output_type": "stream",
          "name": "stdout",
          "text": [
            "Train dates range is from 2017-03-01 to 2018-03-31.\n"
          ]
        }
      ]
    },
    {
      "cell_type": "code",
      "source": [
        "categorical_features = ['B_30', 'B_38', 'D_63', 'D_64', 'D_66', 'D_68', 'D_114', 'D_116', 'D_117', 'D_120', 'D_126']\n",
        "train_data[categorical_features] = train_data[categorical_features].astype(\"category\")\n",
        "train_data[categorical_features].dtypes"
      ],
      "metadata": {
        "id": "XMTJ1MfAkeKj",
        "outputId": "c92ae8f9-27c8-4a49-9968-0a03119ed6e0",
        "colab": {
          "base_uri": "https://localhost:8080/"
        }
      },
      "execution_count": 7,
      "outputs": [
        {
          "output_type": "execute_result",
          "data": {
            "text/plain": [
              "B_30     category\n",
              "B_38     category\n",
              "D_63     category\n",
              "D_64     category\n",
              "D_66     category\n",
              "D_68     category\n",
              "D_114    category\n",
              "D_116    category\n",
              "D_117    category\n",
              "D_120    category\n",
              "D_126    category\n",
              "dtype: object"
            ]
          },
          "metadata": {},
          "execution_count": 7
        }
      ]
    },
    {
      "cell_type": "markdown",
      "source": [
        "## EDA"
      ],
      "metadata": {
        "id": "Cu4ElQSSTWZY"
      }
    },
    {
      "cell_type": "code",
      "source": [
        "feat_Delinquency = [c for c in train_data.columns if c.startswith('D_')]\n",
        "feat_Spend = [c for c in train_data.columns if c.startswith('S_')]\n",
        "feat_Payment = [c for c in train_data.columns if c.startswith('P_')]\n",
        "feat_Balance = [c for c in train_data.columns if c.startswith('B_')]\n",
        "feat_Risk = [c for c in train_data.columns if c.startswith('R_')]\n",
        "print(f'Total number of Delinquency variables: {len(feat_Delinquency)}')\n",
        "print(f'Total number of Spend variables: {len(feat_Spend)}')\n",
        "print(f'Total number of Payment variables: {len(feat_Payment)}')\n",
        "print(f'Total number of Balance variables: {len(feat_Balance)}')\n",
        "print(f'Total number of Risk variables: {len(feat_Risk)}')"
      ],
      "metadata": {
        "id": "PHSsXbgejDMb"
      },
      "execution_count": null,
      "outputs": []
    },
    {
      "cell_type": "code",
      "source": [
        "labels=['Delinquency', 'Spend','Payment','Balance','Risk']\n",
        "values= [len(feat_Delinquency), len(feat_Spend),len(feat_Payment), len(feat_Balance),len(feat_Risk)]"
      ],
      "metadata": {
        "id": "nJjyMFLLkomn"
      },
      "execution_count": null,
      "outputs": []
    },
    {
      "cell_type": "code",
      "source": [
        "fig = go.Figure()\n",
        "fig.add_trace(go.Pie(values = values,labels = labels,hole = 0.6, \n",
        "                     hoverinfo ='label+percent'))\n",
        "fig.update_traces(textfont_size = 12, hoverinfo ='label+percent',textinfo ='label', \n",
        "                  showlegend = False,marker = dict(colors =[\"#70d6ff\",\"#ff9770\"]),\n",
        "                  title = dict(text = 'Feature Distribution'))  \n",
        "fig.show()"
      ],
      "metadata": {
        "id": "FMygKLaAkvKn"
      },
      "execution_count": null,
      "outputs": []
    },
    {
      "cell_type": "code",
      "source": [
        "missing_values = train_data.isna().sum()\n",
        "print(\"Total missing values\" , sum(missing_values))"
      ],
      "metadata": {
        "id": "3nBtHbYck9p9"
      },
      "execution_count": null,
      "outputs": []
    },
    {
      "cell_type": "code",
      "source": [
        "#Custom Color Palette 🎨\n",
        "custom_colors = [\"#ffd670\",\"#70d6ff\",\"#ff4d6d\",\"#8338ec\",\"#90cf8e\"]\n",
        "customPalette = sns.set_palette(sns.color_palette(custom_colors))\n",
        "sns.palplot(sns.color_palette(custom_colors),size=1.2)\n",
        "plt.tick_params(axis='both', labelsize=0, length = 0)"
      ],
      "metadata": {
        "id": "GFujFW_Jk-gq"
      },
      "execution_count": null,
      "outputs": []
    },
    {
      "cell_type": "code",
      "source": [
        "background_color = 'white'\n",
        "missing = pd.DataFrame(columns = ['% Missing values'],data = train_data.isnull().sum()/len(train_data))\n",
        "fig = plt.figure(figsize = (20, 60),facecolor=background_color)\n",
        "gs = fig.add_gridspec(1, 2)\n",
        "gs.update(wspace = 0.5, hspace = 0.5)\n",
        "ax0 = fig.add_subplot(gs[0, 0])\n",
        "for s in [\"right\", \"top\",\"bottom\",\"left\"]:\n",
        "    ax0.spines[s].set_visible(False)\n",
        "sns.heatmap(missing,cbar = False,annot = True,fmt =\".2%\", linewidths = 2,cmap = custom_colors,vmax = 1, ax = ax0)\n",
        "plt.show()\n"
      ],
      "metadata": {
        "id": "Ric1kUEGlDm8"
      },
      "execution_count": null,
      "outputs": []
    },
    {
      "cell_type": "code",
      "source": [
        "stat_plot = train_data.reset_index().groupby('S_2')['customer_ID'].nunique().reset_index()\n",
        "fig = go.Figure()\n",
        "fig.add_trace(go.Scatter(x = stat_plot['S_2'], y = stat_plot['customer_ID']))\n",
        "fig.update_layout(title=\"Customer Statements\", width = 800, height = 600,xaxis_title ='Statement Date',\n",
        "                  paper_bgcolor='rgb(0,0,0,0)',plot_bgcolor='rgb(0,0,0,0)') \n",
        "fig['data'][0]['line']['color']=\"#ff9770\"\n",
        "fig.show()"
      ],
      "metadata": {
        "id": "QnfzdTOhlGME"
      },
      "execution_count": null,
      "outputs": []
    },
    {
      "cell_type": "code",
      "source": [
        "import gc\n",
        "gc.collect()"
      ],
      "metadata": {
        "id": "dNoksR6UlL_6"
      },
      "execution_count": null,
      "outputs": []
    },
    {
      "cell_type": "code",
      "source": [
        "del_cols = [c for c in train_data.columns if (c.startswith(('D','t'))) & (c not in categorical_features)]\n",
        "df_del = train_data[del_cols]\n",
        "spd_cols = [c for c in train_data.columns if (c.startswith(('S','t'))) & (c not in categorical_features)]\n",
        "df_spd = train_data[spd_cols]\n",
        "pay_cols = [c for c in train_data.columns if (c.startswith(('P','t'))) & (c not in categorical_features)]\n",
        "df_pay = train_data[pay_cols]\n",
        "bal_cols = [c for c in train_data.columns if (c.startswith(('B','t'))) & (c not in categorical_features)]\n",
        "df_bal = train_data[bal_cols]\n",
        "ris_cols = [c for c in train_data.columns if (c.startswith(('R','t'))) & (c not in categorical_features)]\n",
        "df_ris = train_data[ris_cols]"
      ],
      "metadata": {
        "id": "j_ee6oarlM_v"
      },
      "execution_count": null,
      "outputs": []
    },
    {
      "cell_type": "markdown",
      "source": [
        "### Feature correlation in default class"
      ],
      "metadata": {
        "id": "a20j8kzzTWV3"
      }
    },
    {
      "cell_type": "code",
      "source": [],
      "metadata": {
        "id": "p7-NvEkEjD8V"
      },
      "execution_count": null,
      "outputs": []
    },
    {
      "cell_type": "markdown",
      "source": [
        "### Feature correlation in paid class"
      ],
      "metadata": {
        "id": "QAZPJ38rTWSO"
      }
    },
    {
      "cell_type": "code",
      "source": [],
      "metadata": {
        "id": "qkQO3Po5jEXr"
      },
      "execution_count": null,
      "outputs": []
    },
    {
      "cell_type": "markdown",
      "source": [
        "### Correlation between different variable types with themselves"
      ],
      "metadata": {
        "id": "qd6PWEYkTWOW"
      }
    },
    {
      "cell_type": "code",
      "source": [
        "fig, axes = plt.subplots(29, 3, figsize = (35,150))\n",
        "for i, ax in enumerate(axes.reshape(-1)):\n",
        "    if i < len(del_cols) - 1:\n",
        "        sns.kdeplot(x = del_cols[i], data = df_del, fill = True, ax = ax, palette =[\"#e63946\",\"#8338ec\"])\n",
        "        ax.tick_params()\n",
        "        ax.xaxis.get_label()\n",
        "        ax.set_ylabel('')\n",
        "fig.suptitle('Distribution of Delinquency Variables', fontsize = 35, x = 0.5, y = 1)\n",
        "plt.tight_layout()\n",
        "plt.show()"
      ],
      "metadata": {
        "id": "8gN-6xPKjE5S"
      },
      "execution_count": null,
      "outputs": []
    },
    {
      "cell_type": "code",
      "source": [
        "plt.figure(figsize =(11,11))\n",
        "corr = df_del.corr()\n",
        "mask = np.triu(np.ones_like(corr, dtype = bool))\n",
        "sns.heatmap(corr, mask = mask, robust = True, center = 0,square = True, linewidths =.6, cmap = custom_colors)\n",
        "plt.title('Correlation of Delinquency Variables')\n",
        "plt.show()"
      ],
      "metadata": {
        "id": "0kIOZgINlgB-"
      },
      "execution_count": null,
      "outputs": []
    },
    {
      "cell_type": "markdown",
      "source": [
        "### Dependency of different variable types on payment variables"
      ],
      "metadata": {
        "id": "fBROvv9KTWAu"
      }
    },
    {
      "cell_type": "code",
      "source": [
        "fig, axes = plt.subplots(29, 3, figsize = (35,150))\n",
        "for i, ax in enumerate(axes.reshape(-1)):\n",
        "    if i < len(del_cols) - 1:\n",
        "        sns.kdeplot(x = del_cols[i], data = df_spd, fill = True, ax = ax, palette =[\"#e63946\",\"#8338ec\"])\n",
        "        ax.tick_params()\n",
        "        ax.xaxis.get_label()\n",
        "        ax.set_ylabel('')\n",
        "fig.suptitle('Distribution of Spend Variables', fontsize = 35, x = 0.5, y = 1)\n",
        "plt.tight_layout()\n",
        "plt.show()"
      ],
      "metadata": {
        "id": "vGS8z7jQjFYi"
      },
      "execution_count": null,
      "outputs": []
    },
    {
      "cell_type": "code",
      "source": [
        "plt.figure(figsize =(11,11))\n",
        "corr = df_spd.corr()\n",
        "mask = np.triu(np.ones_like(corr, dtype = bool))\n",
        "sns.heatmap(corr, mask = mask, robust = True, center = 0,square = True, linewidths =.6, cmap = custom_colors)\n",
        "plt.title('Correlation of Spend Variables')\n",
        "plt.show()"
      ],
      "metadata": {
        "id": "s1XURUoklutR"
      },
      "execution_count": null,
      "outputs": []
    },
    {
      "cell_type": "code",
      "source": [
        "fig, axes = plt.subplots(29, 3, figsize = (35,150))\n",
        "for i, ax in enumerate(axes.reshape(-1)):\n",
        "    if i < len(del_cols) - 1:\n",
        "        sns.kdeplot(x = del_cols[i], data = df_pay, fill = True, ax = ax, palette =[\"#e63946\",\"#8338ec\"])\n",
        "        ax.tick_params()\n",
        "        ax.xaxis.get_label()\n",
        "        ax.set_ylabel('')\n",
        "fig.suptitle('Distribution of Pay Variables', fontsize = 35, x = 0.5, y = 1)\n",
        "plt.tight_layout()\n",
        "plt.show()"
      ],
      "metadata": {
        "id": "ORZTnPeVl9PS"
      },
      "execution_count": null,
      "outputs": []
    },
    {
      "cell_type": "code",
      "source": [
        "plt.figure(figsize =(11,11))\n",
        "corr = df_pay.corr()\n",
        "mask = np.triu(np.ones_like(corr, dtype = bool))\n",
        "sns.heatmap(corr, mask = mask, robust = True, center = 0,square = True, linewidths =.6, cmap = custom_colors)\n",
        "plt.title('Correlation of Pay Variables')\n",
        "plt.show()"
      ],
      "metadata": {
        "id": "iPd4nTYpl-ZM"
      },
      "execution_count": null,
      "outputs": []
    },
    {
      "cell_type": "code",
      "source": [
        "fig, axes = plt.subplots(29, 3, figsize = (35,150))\n",
        "for i, ax in enumerate(axes.reshape(-1)):\n",
        "    if i < len(del_cols) - 1:\n",
        "        sns.kdeplot(x = del_cols[i], data = df_bal, fill = True, ax = ax, palette =[\"#e63946\",\"#8338ec\"])\n",
        "        ax.tick_params()\n",
        "        ax.xaxis.get_label()\n",
        "        ax.set_ylabel('')\n",
        "fig.suptitle('Distribution of Balance Variables', fontsize = 35, x = 0.5, y = 1)\n",
        "plt.tight_layout()\n",
        "plt.show()"
      ],
      "metadata": {
        "id": "-urrUlG2mL9Q"
      },
      "execution_count": null,
      "outputs": []
    },
    {
      "cell_type": "code",
      "source": [
        "plt.figure(figsize =(11,11))\n",
        "corr = df_bal.corr()\n",
        "mask = np.triu(np.ones_like(corr, dtype = bool))\n",
        "sns.heatmap(corr, mask = mask, robust = True, center = 0,square = True, linewidths =.6, cmap = custom_colors)\n",
        "plt.title('Correlation of Balance Variables')\n",
        "plt.show()"
      ],
      "metadata": {
        "id": "U2WCgwtMmNbc"
      },
      "execution_count": null,
      "outputs": []
    },
    {
      "cell_type": "code",
      "source": [
        "fig, axes = plt.subplots(29, 3, figsize = (35,150))\n",
        "for i, ax in enumerate(axes.reshape(-1)):\n",
        "    if i < len(del_cols) - 1:\n",
        "        sns.kdeplot(x = del_cols[i], data = df_ris, fill = True, ax = ax, palette =[\"#e63946\",\"#8338ec\"])\n",
        "        ax.tick_params()\n",
        "        ax.xaxis.get_label()\n",
        "        ax.set_ylabel('')\n",
        "fig.suptitle('Distribution of Risk Variables', fontsize = 35, x = 0.5, y = 1)\n",
        "plt.tight_layout()\n",
        "plt.show()"
      ],
      "metadata": {
        "id": "vAkvycP0mWdn"
      },
      "execution_count": null,
      "outputs": []
    },
    {
      "cell_type": "code",
      "source": [
        "plt.figure(figsize =(11,11))\n",
        "corr = df_ris.corr()\n",
        "mask = np.triu(np.ones_like(corr, dtype = bool))\n",
        "sns.heatmap(corr, mask = mask, robust = True, center = 0,square = True, linewidths =.6, cmap = custom_colors)\n",
        "plt.title('Correlation of Risk Variables')\n",
        "plt.show()"
      ],
      "metadata": {
        "id": "qssa-1SEmWnd"
      },
      "execution_count": null,
      "outputs": []
    },
    {
      "cell_type": "markdown",
      "source": [
        "## Preprocessing data for training model"
      ],
      "metadata": {
        "id": "tUL5dOSGWzuv"
      }
    },
    {
      "cell_type": "markdown",
      "source": [
        "## Training"
      ],
      "metadata": {
        "id": "tOYg_CnlW6b-"
      }
    },
    {
      "cell_type": "markdown",
      "source": [
        "## Evaluation"
      ],
      "metadata": {
        "id": "-0Ij4xQWW6Yh"
      }
    }
  ]
}