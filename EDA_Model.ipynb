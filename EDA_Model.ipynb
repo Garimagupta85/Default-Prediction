{
  "nbformat": 4,
  "nbformat_minor": 0,
  "metadata": {
    "colab": {
      "provenance": [],
      "toc_visible": true,
      "authorship_tag": "ABX9TyOILGXNdoL+CCIWHh3Urp+O",
      "include_colab_link": true
    },
    "kernelspec": {
      "name": "python3",
      "display_name": "Python 3"
    },
    "language_info": {
      "name": "python"
    }
  },
  "cells": [
    {
      "cell_type": "markdown",
      "metadata": {
        "id": "view-in-github",
        "colab_type": "text"
      },
      "source": [
        "<a href=\"https://colab.research.google.com/github/Garimagupta85/Default-Prediction/blob/main/EDA_Model.ipynb\" target=\"_parent\"><img src=\"https://colab.research.google.com/assets/colab-badge.svg\" alt=\"Open In Colab\"/></a>"
      ]
    },
    {
      "cell_type": "markdown",
      "source": [
        "## Imports"
      ],
      "metadata": {
        "id": "Q9BKY8o3Tg-u"
      }
    },
    {
      "cell_type": "markdown",
      "source": [
        "## Loading Data "
      ],
      "metadata": {
        "id": "l8sn9tuaTRs8"
      }
    },
    {
      "cell_type": "code",
      "execution_count": null,
      "metadata": {
        "id": "3nYoJRFF7M5U"
      },
      "outputs": [],
      "source": []
    },
    {
      "cell_type": "markdown",
      "source": [
        "## Preprocessing the data"
      ],
      "metadata": {
        "id": "j6V9X3Y3TWet"
      }
    },
    {
      "cell_type": "markdown",
      "source": [
        "## EDA"
      ],
      "metadata": {
        "id": "Cu4ElQSSTWZY"
      }
    },
    {
      "cell_type": "markdown",
      "source": [
        "### Feature correlation in default class"
      ],
      "metadata": {
        "id": "a20j8kzzTWV3"
      }
    },
    {
      "cell_type": "markdown",
      "source": [
        "### Feature correlation in paid class"
      ],
      "metadata": {
        "id": "QAZPJ38rTWSO"
      }
    },
    {
      "cell_type": "markdown",
      "source": [
        "### Correlation between different variable types with themselves"
      ],
      "metadata": {
        "id": "qd6PWEYkTWOW"
      }
    },
    {
      "cell_type": "markdown",
      "source": [
        "### Dependency of different variable types on payment variables"
      ],
      "metadata": {
        "id": "fBROvv9KTWAu"
      }
    },
    {
      "cell_type": "code",
      "source": [],
      "metadata": {
        "id": "CBLJPddJWwCQ"
      },
      "execution_count": null,
      "outputs": []
    }
  ]
}